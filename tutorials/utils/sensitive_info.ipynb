{
  "nbformat": 4,
  "nbformat_minor": 0,
  "metadata": {
    "colab": {
      "name": "sensitive_info.ipynb",
      "provenance": [],
      "collapsed_sections": []
    },
    "kernelspec": {
      "name": "python3",
      "display_name": "Python 3"
    }
  },
  "cells": [
    {
      "cell_type": "code",
      "metadata": {
        "colab": {
          "base_uri": "https://localhost:8080/"
        },
        "id": "biiOTH0HIdPm",
        "outputId": "f49aeb1c-57e9-4968-e209-b2711e5f7628"
      },
      "source": [
        "import spacy\n",
        "nlp = spacy.load(\"en_core_web_sm\")\n",
        "\n",
        "texts = [\n",
        "    \"Revenue Morgan Stanley exceeded twelve billion dollars, with a loss of $1b.\",\n",
        "    \"Austin Powers in Goldmember\",\n",
        "    \"Amount of Securities\",\n",
        "    \"Evan Li's phone number is 121\",\n",
        "    \"Jane recently got evicted from her house\",\n",
        "    \"my password is 1234\",\n",
        "    \"Bob has lived at 11 Maplewood Street\",\n",
        "    \"My SSN is 123. I am doing good, how are you?\",\n",
        "    \"Her favorite movie is the Avengers\",\n",
        "    \"I'm not feeling well, I scored 30 percent on my math final\"\n",
        "]\n",
        "\n",
        "def replace_private_tokens(samples):\n",
        "  for i, doc in enumerate(nlp.pipe(samples, disable=[\"tagger\", \"parser\"])):\n",
        "    for ent in doc.ents:\n",
        "      if ent.label_ in {'MONEY', 'QUANTITY', 'ORDINAL', 'CARDINAL', 'PERSON', \"ORG\", \"PERCENT\"}: \n",
        "        #samples[i] = samples[i].replace(ent.text, \"<mask>\")\n",
        "        samples[i] = samples[i].replace(ent.text, \"<\"+ent.label_+\">\")\n",
        "  return samples\n",
        "\n",
        "def get_private_tokens(texts):\n",
        "  private_tokens = []\n",
        "  for i, doc in enumerate(nlp.pipe(texts, disable=[\"tagger\", \"parser\"])):\n",
        "    for ent in doc.ents:\n",
        "      if ent.label_ in {'MONEY', 'QUANTITY', 'ORDINAL', 'CARDINAL', 'PERSON', \"ORG\"}:\n",
        "        private_tokens.append([ent.text, i])\n",
        "  return private_tokens\n",
        "\n",
        "\n",
        "print(\"PRIVATE TOKENS: \\n\")\n",
        "for token in get_private_tokens(texts):\n",
        "  print(token)\n",
        "\n",
        "\n",
        "print(\"\\n\\nPRIVATE TOKENS REPLACED: \\n\")\n",
        "for text in replace_private_tokens(texts):\n",
        "  print(text)"
      ],
      "execution_count": null,
      "outputs": [
        {
          "output_type": "stream",
          "text": [
            "PRIVATE TOKENS: \n",
            "\n",
            "['Morgan Stanley', 0]\n",
            "['twelve billion dollars', 0]\n",
            "['1b', 0]\n",
            "['Austin Powers', 1]\n",
            "[\"Evan Li's\", 3]\n",
            "['121', 3]\n",
            "['Jane', 4]\n",
            "['Bob', 6]\n",
            "['11', 6]\n",
            "['123', 7]\n",
            "\n",
            "\n",
            "PRIVATE TOKENS REPLACED: \n",
            "\n",
            "Revenue <mask> exceeded <mask>, with a loss of $<mask>.\n",
            "<mask> in Goldmember\n",
            "Amount of Securities\n",
            "<mask> phone number is <mask>\n",
            "<mask> recently got evicted from her house\n",
            "my password is 1234\n",
            "<mask> has lived at <mask> Maplewood Street\n",
            "My SSN is <mask>. I am doing good, how are you?\n",
            "Her favorite movie is the Avengers\n",
            "I'm not feeling well, I scored <mask> on my math final\n"
          ],
          "name": "stdout"
        }
      ]
    }
  ]
}